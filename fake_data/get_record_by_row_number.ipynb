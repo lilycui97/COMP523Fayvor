{
 "cells": [
  {
   "cell_type": "code",
   "execution_count": 1,
   "metadata": {
    "collapsed": true
   },
   "outputs": [],
   "source": [
    "import openpyxl"
   ]
  },
  {
   "cell_type": "code",
   "execution_count": 48,
   "metadata": {},
   "outputs": [],
   "source": [
    "filename = 'CP_data.xlsx'\n",
    "row_number = 33\n",
    "\n",
    "# grab first sheet\n",
    "wb = openpyxl.load_workbook(filename)\n",
    "ws = wb[wb.sheetnames[0]]"
   ]
  },
  {
   "cell_type": "code",
   "execution_count": 49,
   "metadata": {},
   "outputs": [],
   "source": [
    "header_row = list(ws.rows)[0]\n",
    "record_row = list(ws.rows)[row_number-1]\n",
    "\n",
    "person = {}"
   ]
  },
  {
   "cell_type": "code",
   "execution_count": 50,
   "metadata": {},
   "outputs": [
    {
     "data": {
      "text/plain": [
       "{'Are you comfortable in a residence where someone smokes?': 'Yes',\n",
       " 'Birthday': '=RANDBETWEEN(DATE(1940,1,1),DATE(2000,1,1))',\n",
       " 'Do you have access to a clean, functioning vehicle ?': 'Yes',\n",
       " 'Does anyone in your residence smoke?': 'No',\n",
       " 'Email Address': '=AV33&\"\"&AW33',\n",
       " 'Ethnic Origin': 'Caucasian',\n",
       " 'First Name ': 'care32',\n",
       " \"How long have you had a US driver's license?\": '5-9 years',\n",
       " 'How many moving violations have you been cited for in the last 5 years?': '1 violation',\n",
       " 'If religion is important, select your practice. ': 'Jewish',\n",
       " \"In which part of the world did you 'grow up'?' Check all that apply.\": 'Other',\n",
       " 'Last Name': 'provider32',\n",
       " 'Mobile Phone Number ': '100-000-0032',\n",
       " 'Overall, rate your agreement with the following statements.   [I am a feminist.]': 3.0,\n",
       " 'Overall, rate your agreement with the following statements.   [I am naturally curious.]': 2.0,\n",
       " 'Overall, rate your agreement with the following statements.   [I am risk-taker. ]': 1.0,\n",
       " 'Overall, rate your agreement with the following statements.   [I believe in evolution. ]': 1.0,\n",
       " 'Overall, rate your agreement with the following statements.   [I have strong opinions.]': 2.0,\n",
       " 'Overall, rate your agreement with the following statements.   [I laugh at controversial jokes.]': 5.0,\n",
       " 'Overall, rate your agreement with the following statements.   [I like tattoos. ]': 3.0,\n",
       " 'Overall, rate your agreement with the following statements.   [I prefer being outdoors in nature to being indoors.]': 1.0,\n",
       " 'Overall, rate your agreement with the following statements.   [I prefer quiet time to conversation]': 3.0,\n",
       " 'Overall, rate your agreement with the following statements.   [I use facebook daily.]': 1.0,\n",
       " 'Overall, rate your agreement with the following statements.   [My political views are conservative.]': 4.0,\n",
       " 'Preferred language(s)': 'English, Spanish',\n",
       " 'Timestamp': datetime.datetime(2018, 8, 30, 11, 4, 33),\n",
       " 'Typically, what schedule will you prefer to provide care? ': 'Times vary significantly week by week, Flexible Fayvor appointment times',\n",
       " 'What is or was your career and academic focuses?': 'Engineering',\n",
       " 'What is your comfort level working with the following populations and locations? [Aging Facilities (assisted living, nursing home, etc)]': 2.0,\n",
       " 'What is your comfort level working with the following populations and locations? [Aging]': 1.0,\n",
       " 'What is your comfort level working with the following populations and locations? [Health Facilities (hospital, rehab, etc)]': 1.0,\n",
       " 'What is your comfort level working with the following populations and locations? [Illness/ Disease (i.e. cancer)]': 3.0,\n",
       " 'What is your comfort level working with the following populations and locations? [In-home care ]': 2.0,\n",
       " 'What is your comfort level working with the following populations and locations? [Mental & Memory Limitations]': 1.0,\n",
       " 'What is your comfort level working with the following populations and locations? [Physical Limitations]': 3.0,\n",
       " 'What is your comfort level working with the following populations and locations? [Stand Alone Clinics (Plastic surgery centers, endoscopy centers, etc.)]': 1.0,\n",
       " 'What is your highest level of completed education? ': 'University, but no degree',\n",
       " 'What type of care relationships are you most interested in?': 'A mix of consistent and new care receivers.',\n",
       " 'Which of the following hobbies do you enjoy? Check all that apply.': 'Politics'}"
      ]
     },
     "execution_count": 50,
     "metadata": {},
     "output_type": "execute_result"
    }
   ],
   "source": [
    "for i in range(0, 39):\n",
    "    person[header_row[i].value] = record_row[i].value\n",
    "\n",
    "person"
   ]
  },
  {
   "cell_type": "code",
   "execution_count": 51,
   "metadata": {},
   "outputs": [
    {
     "data": {
      "text/plain": [
       "'100-000-0032'"
      ]
     },
     "execution_count": 51,
     "metadata": {},
     "output_type": "execute_result"
    }
   ],
   "source": [
    "person[\"Mobile Phone Number \"]"
   ]
  },
  {
   "cell_type": "code",
   "execution_count": null,
   "metadata": {
    "collapsed": true
   },
   "outputs": [],
   "source": []
  }
 ],
 "metadata": {
  "kernelspec": {
   "display_name": "Python 3",
   "language": "python",
   "name": "python3"
  },
  "language_info": {
   "codemirror_mode": {
    "name": "ipython",
    "version": 3
   },
   "file_extension": ".py",
   "mimetype": "text/x-python",
   "name": "python",
   "nbconvert_exporter": "python",
   "pygments_lexer": "ipython3",
   "version": "3.6.2"
  }
 },
 "nbformat": 4,
 "nbformat_minor": 2
}
